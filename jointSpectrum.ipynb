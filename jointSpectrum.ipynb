{
 "cells": [
  {
   "cell_type": "code",
   "execution_count": 1,
   "metadata": {},
   "outputs": [],
   "source": [
    "from engineerPMF import *\n",
    "import seaborn as sns\n",
    "import pandas as pd\n",
    "from ipywidgets import Layout, interact, IntSlider, FloatSlider, Dropdown"
   ]
  },
  {
   "cell_type": "markdown",
   "metadata": {},
   "source": [
    "### Select custom-poled KTP configuration from data"
   ]
  },
  {
   "cell_type": "code",
   "execution_count": 2,
   "metadata": {},
   "outputs": [],
   "source": [
    "def chosePoling(poling):\n",
    "    # Get poling configuration from file or periodically poled KTP\n",
    "    # poling is a Boolean variable\n",
    "    \n",
    "    filename = \"./data/polingConfig_032.txt\" # best config from stimulated annealing\n",
    "    \n",
    "    if poling == \"Custom-poled\":\n",
    "        polingConfig = np.concatenate((readPolingConfigFile(filename), np.ones((7,))))\n",
    "        NUMDOMAIN = len(polingConfig)         \n",
    "    elif poling == \"Periodically-poled\": \n",
    "        NUMDOMAIN = 650\n",
    "        polingConfig = [(-1)**k for k in range(NUMDOMAIN)]\n",
    "    return NUMDOMAIN, polingConfig"
   ]
  },
  {
   "cell_type": "markdown",
   "metadata": {},
   "source": [
    "## Pump laser setting"
   ]
  },
  {
   "cell_type": "code",
   "execution_count": 3,
   "metadata": {},
   "outputs": [],
   "source": [
    "FWHM = 0.63E-9 # FWHM for Guassian pump (0.63nm for 1.0ps, 0.79nm for 0.8ps)\n",
    "delta = 10E-9 #METER"
   ]
  },
  {
   "cell_type": "markdown",
   "metadata": {},
   "source": [
    "## Initialise focusing parameter"
   ]
  },
  {
   "cell_type": "code",
   "execution_count": 4,
   "metadata": {},
   "outputs": [],
   "source": [
    "pumpWaist = 300E-6 #METER\n",
    "signalWaist = idlerWaist = 115E-6 #METER"
   ]
  },
  {
   "cell_type": "markdown",
   "metadata": {},
   "source": [
    "## Initial joint spectrum"
   ]
  },
  {
   "cell_type": "code",
   "execution_count": 5,
   "metadata": {},
   "outputs": [],
   "source": [
    "def slider(temp, domain_width, pump, poling):\n",
    "    \n",
    "    NUMDOMAIN, polingConfig = chosePoling(poling)\n",
    "    \n",
    "    crystalTemp = 12 # degree Celsius\n",
    "\n",
    "    lo = 23.10E-6 #METERS\n",
    "    lc = crystalExpansion(lo, crystalTemp, enable = True) # Set enable to False to turn of crystal expansion\n",
    "\n",
    "    LENGTH = NUMDOMAIN*lc #MICRON\n",
    "    \n",
    "    pumpWavelength = pump*1E-9\n",
    "    numGrid = 50+1\n",
    "    \n",
    "    centralSignalWavelength = 2*pumpWavelength #METER\n",
    "    centralIdlerWavelength =  centralSignalWavelength # momentum conserved\n",
    "    \n",
    "    centralWavelength = np.array([pumpWavelength, centralSignalWavelength, centralIdlerWavelength])\n",
    "\n",
    "    signalWavelength = np.linspace(centralSignalWavelength-delta,\n",
    "                                   centralSignalWavelength+delta, numGrid)\n",
    "    idlerWavelength = np.linspace(centralIdlerWavelength-delta,\n",
    "                                  centralIdlerWavelength+delta, numGrid)\n",
    "\n",
    "    # There is a need to reverse the idlerWavelength array, or else the origin will\n",
    "    # start on the top left corner of grid instead of bottom left.\n",
    "    \n",
    "    idlerWavelength = idlerWavelength[::-1]\n",
    "    signal, idler = np.meshgrid(signalWavelength, idlerWavelength)\n",
    "    \n",
    "    PEF = pumpEnvFunc(signal, idler, centralWavelength, FWHM, shape = 'sech')\n",
    "\n",
    "    customPhi, axis = customPhaseMatchedFunc(domain_width*1E-6, polingConfig, temp,\n",
    "                                            signal, idler, centralWavelength,\n",
    "                                            pumpWaist, signalWaist, idlerWaist, segments = 8)\n",
    "\n",
    "    JSA = customPhi*PEF\n",
    "    JSI = np.abs(JSA)**2\n",
    "    purity, entropy = getPurity(JSA) # JSI or JSA\n",
    "    \n",
    "    signalJSI = np.sum(JSI, axis=0)\n",
    "    idlerJSI = np.sum(JSI, axis=1)\n",
    "    \n",
    "    guessSignal = (np.max(signalJSI), 2*pumpWavelength, FWHM)\n",
    "    guessIdler = (np.max(idlerJSI), 2*pumpWavelength, FWHM)\n",
    "    poptSignal, pcov = curve_fit(spectrafit, signalWavelength, signalJSI, guessSignal)\n",
    "    poptIdler,  pcov = curve_fit(spectrafit, idlerWavelength, signalJSI, guessIdler)                          \n",
    "    \n",
    "    newSignal = np.linspace(centralSignalWavelength-delta,\n",
    "                            centralSignalWavelength+delta, numGrid*5)\n",
    "    newIdler  = np.linspace(centralIdlerWavelength-delta,\n",
    "                            centralIdlerWavelength+delta, numGrid*5)[::-1]\n",
    "    \n",
    "    signalFit = spectrafit(newSignal, *poptSignal)\n",
    "    idlerFit = spectrafit(newIdler, *poptIdler)\n",
    "    \n",
    "    fig = plt.figure(figsize=(18, 9))\n",
    "    # Add a gridspec with two rows and two columns and a ratio of 2 to 7 between\n",
    "    # the size of the marginal axes and the main axes in both directions.\n",
    "    # Also adjust the subplot parameters for a square plot.\n",
    "    gs = fig.add_gridspec(3, 3,  width_ratios=(8, 2, 8), height_ratios=(2, 4, 4),\n",
    "                          left=0.1, right=0.9, bottom=0.1, top=0.9,\n",
    "                          wspace=0.05, hspace=0.05)\n",
    "    \n",
    "    ax = fig.add_subplot(gs[1:, 0])\n",
    "    plt.contourf(signalWavelength*1E9, idlerWavelength*1E9, JSI, levels = 100)\n",
    "    plt.locator_params(axis='y', nbins=7)\n",
    "    plt.locator_params(axis='x', nbins=7)\n",
    "    \n",
    "    sig = fig.add_subplot(gs[0, 0])\n",
    "    plt.axvline(x=1550, linestyle='--', color='xkcd:dusty purple')\n",
    "    plt.yticks([])\n",
    "    plt.xticks([])\n",
    "    plt.plot(newSignal*1E9, signalFit, linewidth=2.5, color='xkcd:avocado')\n",
    "    signalCenter = \"Signal central wavelength: {:0.02f} nm, signal bandwith: {:0.02f} nm\".format(poptSignal[1]*1E9, poptSignal[-1]*1E9)\n",
    "    \n",
    "    idl = fig.add_subplot(gs[1:, 1])\n",
    "    plt.axhline(y=1550, linestyle='--', color='xkcd:dusty purple')\n",
    "    plt.yticks([])\n",
    "    plt.xticks([])\n",
    "    plt.plot(idlerFit, newIdler*1E9, linewidth=2.5, color='xkcd:terra cotta')\n",
    "    idlerCenter = \"Idler central wavelength: {:0.02f} nm, idler bandwith: {:0.02f} nm\".format(poptIdler[1]*1E9, poptIdler[-1]*1E9)\n",
    "    \n",
    "    ovr = fig.add_subplot(gs[1,2])\n",
    "    plt.yticks([])\n",
    "    plt.xlabel(\"Wavelength (nm)\")\n",
    "    plt.locator_params(axis='y', nbins=7)\n",
    "    plt.plot(newIdler*1E9, idlerFit, linewidth=2.5, color='xkcd:terra cotta')\n",
    "    plt.plot(newSignal*1E9, signalFit, linewidth=2.5, color='xkcd:avocado')\n",
    "    plt.axvline(x=poptSignal[1]*1E9, linestyle='--', color='xkcd:dusty purple')\n",
    "    plt.axvline(x=poptIdler[1]*1E9, linestyle='--', color='xkcd:dusty purple')\n",
    "    \n",
    "    \n",
    "    print(signalCenter)\n",
    "    print(idlerCenter)\n",
    "    print(\"The PMF axis is at: {:0.02f}\".format(axis))\n",
    "    print(\"Purity: {:0.02f}, Entropy: {:0.02f}\".format(purity*1E2, entropy))\n",
    "    \n",
    "    return ax\n",
    "\n",
    "# avocado\n",
    "# terra cotta\n",
    "# dusty purple\n",
    "# light maroon\n",
    "# reddish\n",
    "# dark lilac"
   ]
  },
  {
   "cell_type": "markdown",
   "metadata": {},
   "source": [
    "## Joint spectrum amplitude plot"
   ]
  },
  {
   "cell_type": "code",
   "execution_count": 6,
   "metadata": {
    "scrolled": false
   },
   "outputs": [
    {
     "data": {
      "application/vnd.jupyter.widget-view+json": {
       "model_id": "506795bdc00b4b178ac3e3f398ebafe2",
       "version_major": 2,
       "version_minor": 0
      },
      "text/plain": [
       "interactive(children=(FloatSlider(value=32.0, continuous_update=False, description='temperature (Celsius)', la…"
      ]
     },
     "metadata": {},
     "output_type": "display_data"
    },
    {
     "data": {
      "text/plain": [
       "<function __main__.slider(temp, domain_width, pump, poling)>"
      ]
     },
     "execution_count": 6,
     "metadata": {},
     "output_type": "execute_result"
    }
   ],
   "source": [
    "# https://ipywidgets.readthedocs.io/en/latest/examples/Using%20Interact.html\n",
    "\n",
    "interact(slider,\n",
    "         poling=Dropdown(value = \"Custom-poled\",\n",
    "                         options = [\"Periodically-poled\", \"Custom-poled\"], description = \"poling config\"),\n",
    "         temp=FloatSlider(value=32, description='temperature (Celsius)',\n",
    "                          min=-100, max=100, step=0.01, continuous_update = False,\n",
    "                          layout=Layout(width='60%')),\n",
    "         domain_width=FloatSlider(value=23.10, description='domain width (micron)',\n",
    "                                  min=22, max=24, step=0.01, continuous_update = False,\n",
    "                                  layout=Layout(width='60%')),\n",
    "         pump=FloatSlider(value=775, description='pump wavelength',\n",
    "                          min=750, max=850, step=0.1, continuous_update = False,\n",
    "                          layout=Layout(width='60%')))"
   ]
  }
 ],
 "metadata": {
  "kernelspec": {
   "display_name": "Python 3",
   "language": "python",
   "name": "python3"
  },
  "language_info": {
   "codemirror_mode": {
    "name": "ipython",
    "version": 3
   },
   "file_extension": ".py",
   "mimetype": "text/x-python",
   "name": "python",
   "nbconvert_exporter": "python",
   "pygments_lexer": "ipython3",
   "version": "3.6.8"
  }
 },
 "nbformat": 4,
 "nbformat_minor": 2
}
